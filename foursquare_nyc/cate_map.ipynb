{
 "cells": [
  {
   "cell_type": "code",
   "execution_count": 1,
   "metadata": {},
   "outputs": [],
   "source": [
    "import pandas as pd\n",
    "import numpy as np\n",
    "file_path = 'cate4sq.txt'\n",
    "data_path = 'df.csv'"
   ]
  },
  {
   "cell_type": "code",
   "execution_count": null,
   "metadata": {},
   "outputs": [],
   "source": [
    "data_path = 'df.csv'"
   ]
  },
  {
   "cell_type": "code",
   "execution_count": 2,
   "metadata": {},
   "outputs": [],
   "source": [
    "def map_to_top_level_category(lines):\n",
    "    category_mapping = {}\n",
    "    current_top_level_category = None\n",
    "\n",
    "    for line in lines:\n",
    "        stripped_line = line.strip()\n",
    "        if stripped_line.startswith('Suggested Countries:'):\n",
    "            continue\n",
    "\n",
    "        if not stripped_line:\n",
    "            continue\n",
    "\n",
    "        if not line.startswith(\" \"):\n",
    "            current_top_level_category = stripped_line\n",
    "        else:\n",
    "            category_mapping[stripped_line] = current_top_level_category\n",
    "\n",
    "    return category_mapping"
   ]
  },
  {
   "cell_type": "code",
   "execution_count": 4,
   "metadata": {},
   "outputs": [
    {
     "name": "stdout",
     "output_type": "stream",
     "text": [
      "{'Aquarium': 'Arts & Entertainment', 'Arcade': 'Arts & Entertainment', 'Art Gallery': 'Arts & Entertainment', 'Bowling Alley': 'Arts & Entertainment', 'Casino': 'Arts & Entertainment', 'Circus': 'Arts & Entertainment', 'Comedy Club': 'Arts & Entertainment', 'Concert Hall': 'Arts & Entertainment', 'Country Dance Club': 'Arts & Entertainment', 'Disc Golf': 'Arts & Entertainment', 'General Entertainment': 'Arts & Entertainment', 'Go Kart Track': 'Arts & Entertainment', 'Historic Site': 'Arts & Entertainment', 'Laser Tag': 'Arts & Entertainment', 'Mini Golf': 'Arts & Entertainment', 'Movie Theater': 'Arts & Entertainment', 'Indie Movie Theater': 'Arts & Entertainment', 'Multiplex': 'Arts & Entertainment', 'Museum': 'Arts & Entertainment', 'Art Museum': 'Arts & Entertainment', 'Erotic Museum': 'Arts & Entertainment', 'History Museum': 'Arts & Entertainment', 'Planetarium': 'Arts & Entertainment', 'Science Museum': 'Arts & Entertainment', 'Music Venue': 'Arts & Entertainment', 'Jazz Club': 'Arts & Entertainment', 'Piano Bar': 'Arts & Entertainment', 'Rock Club': 'Arts & Entertainment', 'Performing Arts Venue': 'Arts & Entertainment', 'Dance Studio': 'Arts & Entertainment', 'Indie Theater': 'Arts & Entertainment', 'Opera House': 'Arts & Entertainment', 'Theater': 'Arts & Entertainment', 'Pool Hall': 'Arts & Entertainment', 'Public Art': 'Arts & Entertainment', 'Outdoor Sculpture': 'Arts & Entertainment', 'Street Art': 'Arts & Entertainment', 'Racetrack': 'Arts & Entertainment', 'Roller Rink': 'Arts & Entertainment', 'Salsa Club': 'Arts & Entertainment', 'Stadium': 'Arts & Entertainment', 'Baseball Stadium': 'Arts & Entertainment', 'Basketball Stadium': 'Arts & Entertainment', 'Cricket Ground': 'Arts & Entertainment', 'Football Stadium': 'Arts & Entertainment', 'Hockey Arena': 'Arts & Entertainment', 'Soccer Stadium': 'Arts & Entertainment', 'Tennis': 'Arts & Entertainment', 'Track Stadium': 'Arts & Entertainment', 'Theme Park': 'Arts & Entertainment', 'Theme Park Ride / Attraction': 'Arts & Entertainment', 'Water Park': 'Arts & Entertainment', 'Zoo': 'Arts & Entertainment', 'College Academic Building': 'College & University', 'College Arts Building': 'College & University', 'College Communications Building': 'College & University', 'College Engineering Building': 'College & University', 'College History Building': 'College & University', 'College Math Building': 'College & University', 'College Science Building': 'College & University', 'College Technology Building': 'College & University', 'College Administrative Building': 'College & University', 'College Auditorium': 'College & University', 'College Bookstore': 'College & University', 'College Cafeteria': 'College & University', 'College Classroom': 'College & University', 'College Gym': 'College & University', 'College Lab': 'College & University', 'College Library': 'College & University', 'College Quad': 'College & University', 'College Rec Center': 'College & University', 'College Residence Hall': 'College & University', 'College Stadium': 'College & University', 'College Baseball Diamond': 'College & University', 'College Basketball Court': 'College & University', 'College Cricket Pitch': 'College & University', 'College Football Field': 'College & University', 'College Hockey Rink': 'College & University', 'College Soccer Field': 'College & University', 'College Tennis Court': 'College & University', 'College Track': 'College & University', 'College Theater': 'College & University', 'Community College': 'College & University', 'Fraternity House': 'College & University', 'General College & University': 'College & University', 'Law School': 'College & University', 'Medical School': 'College & University', 'Sorority House': 'College & University', 'Student Center': 'College & University', 'Trade School': 'College & University', 'University': 'College & University', 'Conference': 'Event', 'Convention': 'Event', 'Festival': 'Event', 'Music Festival': 'Event', 'Other Event': 'Event', 'Parade': 'Event', 'Stoop Sale': 'Event', 'Street Fair': 'Event', 'Afghan Restaurant': 'Food', 'African Restaurant': 'Food', 'Ethiopian Restaurant': 'Food', 'American Restaurant': 'Food', 'New American Restaurant': 'Food', 'Asian Restaurant': 'Food', 'Cambodian Restaurant': 'Food', 'Filipino Restaurant': 'Food', 'Himalayan Restaurant': 'Food', 'Hotpot Restaurant': 'Food', 'Japanese Restaurant': 'Food', 'Donburi Restaurant': 'Food', 'Japanese Curry Restaurant': 'Food', 'Kaiseki Restaurant': 'Food', 'Kushikatsu Restaurant': 'Food', 'Monjayaki Restaurant': 'Food', 'Nabe Restaurant': 'Food', 'Okonomiyaki Restaurant': 'Food', 'Ramen Restaurant': 'Food', 'Shabu-Shabu Restaurant': 'Food', 'Soba Restaurant': 'Food', 'Sukiyaki Restaurant': 'Food', 'Sushi Restaurant': 'Food', 'Takoyaki Place': 'Food', 'Tempura Restaurant': 'Food', 'Tonkatsu Restaurant': 'Food', 'Udon Restaurant': 'Food', 'Unagi Restaurant': 'Food', 'Wagashi Place': 'Food', 'Yakitori Restaurant': 'Food', 'Yoshoku Restaurant': 'Food', 'Korean Restaurant': 'Food', 'Malaysian Restaurant': 'Food', 'Mongolian Restaurant': 'Food', 'Noodle House': 'Food', 'Thai Restaurant': 'Food', 'Tibetan Restaurant': 'Food', 'Vietnamese Restaurant': 'Food', 'Australian Restaurant': 'Food', 'Austrian Restaurant': 'Food', 'BBQ Joint': 'Food', 'Bagel Shop': 'Food', 'Bakery': 'Food', 'Belgian Restaurant': 'Food', 'Bistro': 'Food', 'Brazilian Restaurant': 'Food', 'Acai House': 'Food', 'Baiano Restaurant': 'Food', 'Central Brazilian Restaurant': 'Food', 'Churrascaria': 'Food', 'Empada House': 'Food', 'Goiano Restaurant': 'Food', 'Mineiro Restaurant': 'Food', 'Northeastern Brazilian Restaurant': 'Food', 'Northern Brazilian Restaurant': 'Food', 'Pastelaria': 'Food', 'Southeastern Brazilian Restaurant': 'Food', 'Southern Brazilian Restaurant': 'Food', 'Tapiocaria': 'Food', 'Breakfast Spot': 'Food', 'Bubble Tea Shop': 'Food', 'Buffet': 'Food', 'Burger Joint': 'Food', 'Cafeteria': 'Food', 'Café': 'Food', 'Cajun / Creole Restaurant': 'Food', 'Caribbean Restaurant': 'Food', 'Caucasian Restaurant': 'Food', 'Chinese Restaurant': 'Food', 'Anhui Restaurant': 'Food', 'Beijing Restaurant': 'Food', 'Cantonese Restaurant': 'Food', 'Chinese Aristocrat Restaurant': 'Food', 'Chinese Breakfast Place': 'Food', 'Dim Sum Restaurant': 'Food', 'Dongbei Restaurant': 'Food', 'Fujian Restaurant': 'Food', 'Guizhou Restaurant': 'Food', 'Hainan Restaurant': 'Food', 'Hakka Restaurant': 'Food', 'Henan Restaurant': 'Food', 'Hong Kong Restaurant': 'Food', 'Huaiyang Restaurant': 'Food', 'Hubei Restaurant': 'Food', 'Hunan Restaurant': 'Food', 'Imperial Restaurant': 'Food', 'Jiangsu Restaurant': 'Food', 'Jiangxi Restaurant': 'Food', 'Macanese Restaurant': 'Food', 'Manchu Restaurant': 'Food', 'Peking Duck Restaurant': 'Food', 'Shaanxi Restaurant': 'Food', 'Shandong Restaurant': 'Food', 'Shanghai Restaurant': 'Food', 'Shanxi Restaurant': 'Food', 'Szechuan Restaurant': 'Food', 'Taiwanese Restaurant': 'Food', 'Tianjin Restaurant': 'Food', 'Xinjiang Restaurant': 'Food', 'Yunnan Restaurant': 'Food', 'Zhejiang Restaurant': 'Food', 'Coffee Shop': 'Food', 'Comfort Food Restaurant': 'Food', 'Creperie': 'Food', 'Czech Restaurant': 'Food', 'Deli / Bodega': 'Food', 'Dessert Shop': 'Food', 'Cupcake Shop': 'Food', 'Donut Shop': 'Food', 'Frozen Yogurt': 'Food', 'Ice Cream Shop': 'Food', 'Pie Shop': 'Food', 'Diner': 'Food', 'Distillery': 'Food', 'Dumpling Restaurant': 'Food', 'Eastern European Restaurant': 'Food', 'Belarusian Restaurant': 'Food', 'Romanian Restaurant': 'Food', 'Tatar Restaurant': 'Food', 'English Restaurant': 'Food', 'Falafel Restaurant': 'Food', 'Fast Food Restaurant': 'Food', 'Fish & Chips Shop': 'Food', 'Fondue Restaurant': 'Food', 'Food Court': 'Food', 'Food Truck': 'Food', 'French Restaurant': 'Food', 'Fried Chicken Joint': 'Food', 'Gastropub': 'Food', 'German Restaurant': 'Food', 'Gluten-free Restaurant': 'Food', 'Greek Restaurant': 'Food', 'Bougatsa Shop': 'Food', 'Cretan Restaurant': 'Food', 'Fish Taverna': 'Food', 'Grilled Meat Restaurant': 'Food', 'Kafenio': 'Food', 'Magirio': 'Food', 'Meze Restaurant': 'Food', 'Modern Greek Restaurant': 'Food', 'Ouzeri': 'Food', 'Patsa Restaurant': 'Food', 'Souvlaki Shop': 'Food', 'Taverna': 'Food', 'Tsipouro Restaurant': 'Food', 'Halal Restaurant': 'Food', 'Hawaiian Restaurant': 'Food', 'Hot Dog Joint': 'Food', 'Hungarian Restaurant': 'Food', 'Indian Restaurant': 'Food', 'Andhra Restaurant': 'Food', 'Awadhi Restaurant': 'Food', 'Bengali Restaurant': 'Food', 'Chaat Place': 'Food', 'Chettinad Restaurant': 'Food', 'Dhaba': 'Food', 'Dosa Place': 'Food', 'Goan Restaurant': 'Food', 'Gujarati Restaurant': 'Food', 'Hyderabadi Restaurant': 'Food', 'Indian Chinese Restaurant': 'Food', 'Indian Sweet Shop': 'Food', 'Irani Cafe': 'Food', 'Jain Restaurant': 'Food', 'Karnataka Restaurant': 'Food', 'Kerala Restaurant': 'Food', 'Maharashtrian Restaurant': 'Food', 'Mughlai Restaurant': 'Food', 'Multicuisine Indian Restaurant': 'Food', 'North Indian Restaurant': 'Food', 'Northeast Indian Restaurant': 'Food', 'Parsi Restaurant': 'Food', 'Punjabi Restaurant': 'Food', 'Rajasthani Restaurant': 'Food', 'South Indian Restaurant': 'Food', 'Udupi Restaurant': 'Food', 'Indonesian Restaurant': 'Food', 'Acehnese Restaurant': 'Food', 'Balinese Restaurant': 'Food', 'Betawinese Restaurant': 'Food', 'Indonesian Meatball Place': 'Food', 'Javanese Restaurant': 'Food', 'Manadonese Restaurant': 'Food', 'Padangnese Restaurant': 'Food', 'Sundanese Restaurant': 'Food', 'Irish Pub': 'Food', 'Italian Restaurant': 'Food', 'Abruzzo Restaurant': 'Food', 'Agriturismo': 'Food', 'Aosta Restaurant': 'Food', 'Basilicata Restaurant': 'Food', 'Calabria Restaurant': 'Food', 'Campanian Restaurant': 'Food', 'Emilia Restaurant': 'Food', 'Friuli Restaurant': 'Food', 'Ligurian Restaurant': 'Food', 'Lombard Restaurant': 'Food', 'Malga': 'Food', 'Marche Restaurant': 'Food', 'Molise Restaurant': 'Food', 'Piadineria': 'Food', 'Piedmontese Restaurant': 'Food', 'Puglia Restaurant': 'Food', 'Rifugio di Montagna': 'Food', 'Romagna Restaurant': 'Food', 'Roman Restaurant': 'Food', 'Sardinian Restaurant': 'Food', 'Sicilian Restaurant': 'Food', 'South Tyrolean Restaurant': 'Food', 'Trattoria/Osteria': 'Food', 'Trentino Restaurant': 'Food', 'Tuscan Restaurant': 'Food', 'Umbrian Restaurant': 'Food', 'Veneto Restaurant': 'Food', 'Jewish Restaurant': 'Food', 'Kosher Restaurant': 'Food', 'Juice Bar': 'Food', 'Latin American Restaurant': 'Food', 'Arepa Restaurant': 'Food', 'Cuban Restaurant': 'Food', 'Empanada Restaurant': 'Food', 'Mac & Cheese Joint': 'Food', 'Mediterranean Restaurant': 'Food', 'Moroccan Restaurant': 'Food', 'Mexican Restaurant': 'Food', 'Burrito Place': 'Food', 'Taco Place': 'Food', 'Middle Eastern Restaurant': 'Food', 'Persian Restaurant': 'Food', 'Modern European Restaurant': 'Food', 'Molecular Gastronomy Restaurant': 'Food', 'Pakistani Restaurant': 'Food', 'Pizza Place': 'Food', 'Polish Restaurant': 'Food', 'Portuguese Restaurant': 'Food', 'Restaurant': 'Food', 'Russian Restaurant': 'Food', 'Blini House': 'Food', 'Pelmeni House': 'Food', 'Salad Place': 'Food', 'Sandwich Place': 'Food', 'Scandinavian Restaurant': 'Food', 'Seafood Restaurant': 'Food', 'Snack Place': 'Food', 'Soup Place': 'Food', 'South American Restaurant': 'Food', 'Argentinian Restaurant': 'Food', 'Peruvian Restaurant': 'Food', 'Southern / Soul Food Restaurant': 'Food', 'Spanish Restaurant': 'Food', 'Paella Restaurant': 'Food', 'Tapas Restaurant': 'Food', 'Sri Lankan Restaurant': 'Food', 'Steakhouse': 'Food', 'Swiss Restaurant': 'Food', 'Tea Room': 'Food', 'Turkish Restaurant': 'Food', 'Borek Place': 'Food', 'Cigkofte Place': 'Food', 'Doner Restaurant': 'Food', 'Gozleme Place': 'Food', 'Kebab Restaurant': 'Food', 'Kofte Place': 'Food', 'Kokoreç Restaurant': 'Food', 'Manti Place': 'Food', 'Meyhane': 'Food', 'Pide Place': 'Food', 'Turkish Home Cooking Restaurant': 'Food', 'Ukrainian Restaurant': 'Food', 'Varenyky restaurant': 'Food', 'West-Ukrainian Restaurant': 'Food', 'Vegetarian / Vegan Restaurant': 'Food', 'Winery': 'Food', 'Wings Joint': 'Food', 'Bar': 'Nightlife Spot', 'Beach Bar': 'Nightlife Spot', 'Beer Garden': 'Nightlife Spot', 'Champagne Bar': 'Nightlife Spot', 'Cocktail Bar': 'Nightlife Spot', 'Dive Bar': 'Nightlife Spot', 'Gay Bar': 'Nightlife Spot', 'Hookah Bar': 'Nightlife Spot', 'Hotel Bar': 'Nightlife Spot', 'Karaoke Bar': 'Nightlife Spot', 'Pub': 'Nightlife Spot', 'Sake Bar': 'Nightlife Spot', 'Sports Bar': 'Nightlife Spot', 'Whisky Bar': 'Nightlife Spot', 'Wine Bar': 'Nightlife Spot', 'Brewery': 'Nightlife Spot', 'Lounge': 'Nightlife Spot', 'Night Market': 'Nightlife Spot', 'Nightclub': 'Nightlife Spot', 'Other Nightlife': 'Nightlife Spot', 'Speakeasy': 'Nightlife Spot', 'Strip Club': 'Nightlife Spot', 'Athletics & Sports': 'Outdoors & Recreation', 'Badminton Court': 'Outdoors & Recreation', 'Baseball Field': 'Outdoors & Recreation', 'Basketball Court': 'Outdoors & Recreation', 'Bowling Green': 'Outdoors & Recreation', 'Golf Course': 'Outdoors & Recreation', 'Hockey Field': 'Outdoors & Recreation', 'Paintball Field': 'Outdoors & Recreation', 'Rugby Pitch': 'Outdoors & Recreation', 'Skate Park': 'Outdoors & Recreation', 'Skating Rink': 'Outdoors & Recreation', 'Soccer Field': 'Outdoors & Recreation', 'Sports Club': 'Outdoors & Recreation', 'Squash Court': 'Outdoors & Recreation', 'Tennis Court': 'Outdoors & Recreation', 'Volleyball Court': 'Outdoors & Recreation', 'Bath House': 'Outdoors & Recreation', 'Bathing Area': 'Outdoors & Recreation', 'Beach': 'Outdoors & Recreation', 'Nudist Beach': 'Outdoors & Recreation', 'Surf Spot': 'Outdoors & Recreation', 'Botanical Garden': 'Outdoors & Recreation', 'Bridge': 'Outdoors & Recreation', 'Campground': 'Outdoors & Recreation', 'Castle': 'Outdoors & Recreation', 'Cemetery': 'Outdoors & Recreation', 'Dive Spot': 'Outdoors & Recreation', 'Dog Run': 'Outdoors & Recreation', 'Farm': 'Outdoors & Recreation', 'Field': 'Outdoors & Recreation', 'Fishing Spot': 'Outdoors & Recreation', 'Forest': 'Outdoors & Recreation', 'Garden': 'Outdoors & Recreation', 'Gun Range': 'Outdoors & Recreation', 'Harbor / Marina': 'Outdoors & Recreation', 'Hot Spring': 'Outdoors & Recreation', 'Island': 'Outdoors & Recreation', 'Lake': 'Outdoors & Recreation', 'Lighthouse': 'Outdoors & Recreation', 'Mountain': 'Outdoors & Recreation', 'National Park': 'Outdoors & Recreation', 'Nature Preserve': 'Outdoors & Recreation', 'Other Great Outdoors': 'Outdoors & Recreation', 'Palace': 'Outdoors & Recreation', 'Park': 'Outdoors & Recreation', 'Pedestrian Plaza': 'Outdoors & Recreation', 'Playground': 'Outdoors & Recreation', 'Plaza': 'Outdoors & Recreation', 'Pool': 'Outdoors & Recreation', 'Rafting': 'Outdoors & Recreation', 'Recreation Center': 'Outdoors & Recreation', 'River': 'Outdoors & Recreation', 'Rock Climbing Spot': 'Outdoors & Recreation', 'Scenic Lookout': 'Outdoors & Recreation', 'Sculpture Garden': 'Outdoors & Recreation', 'Ski Area': 'Outdoors & Recreation', 'Apres Ski Bar': 'Outdoors & Recreation', 'Ski Chairlift': 'Outdoors & Recreation', 'Ski Chalet': 'Outdoors & Recreation', 'Ski Lodge': 'Outdoors & Recreation', 'Ski Trail': 'Outdoors & Recreation', 'Stables': 'Outdoors & Recreation', 'States & Municipalities': 'Outdoors & Recreation', 'City': 'Outdoors & Recreation', 'County': 'Outdoors & Recreation', 'Country': 'Outdoors & Recreation', 'Neighborhood': 'Outdoors & Recreation', 'State': 'Outdoors & Recreation', 'Town': 'Outdoors & Recreation', 'Village': 'Outdoors & Recreation', 'Summer Camp': 'Outdoors & Recreation', 'Trail': 'Outdoors & Recreation', 'Tree': 'Outdoors & Recreation', 'Vineyard': 'Outdoors & Recreation', 'Volcano': 'Outdoors & Recreation', 'Well': 'Outdoors & Recreation', 'Animal Shelter': 'Professional & Other Places', 'Auditorium': 'Professional & Other Places', 'Building': 'Professional & Other Places', 'Club House': 'Professional & Other Places', 'Community Center': 'Professional & Other Places', 'Convention Center': 'Professional & Other Places', 'Meeting Room': 'Professional & Other Places', 'Cultural Center': 'Professional & Other Places', 'Distribution Center': 'Professional & Other Places', 'Event Space': 'Professional & Other Places', 'Factory': 'Professional & Other Places', 'Fair': 'Professional & Other Places', 'Funeral Home': 'Professional & Other Places', 'Government Building': 'Professional & Other Places', 'Capitol Building': 'Professional & Other Places', 'City Hall': 'Professional & Other Places', 'Courthouse': 'Professional & Other Places', 'Embassy / Consulate': 'Professional & Other Places', 'Fire Station': 'Professional & Other Places', 'Monument / Landmark': 'Professional & Other Places', 'Police Station': 'Professional & Other Places', 'Town Hall': 'Professional & Other Places', 'Library': 'Professional & Other Places', 'Medical Center': 'Professional & Other Places', 'Acupuncturist': 'Professional & Other Places', 'Alternative Healer': 'Professional & Other Places', 'Chiropractor': 'Professional & Other Places', \"Dentist's Office\": 'Professional & Other Places', \"Doctor's Office\": 'Professional & Other Places', 'Emergency Room': 'Professional & Other Places', 'Eye Doctor': 'Professional & Other Places', 'Hospital': 'Professional & Other Places', 'Laboratory': 'Professional & Other Places', 'Mental Health Office': 'Professional & Other Places', 'Veterinarian': 'Professional & Other Places', 'Military Base': 'Professional & Other Places', 'Non-Profit': 'Professional & Other Places', 'Office': 'Professional & Other Places', 'Advertising Agency': 'Professional & Other Places', 'Campaign Office': 'Professional & Other Places', 'Conference Room': 'Professional & Other Places', 'Corporate Cafeteria': 'Professional & Other Places', 'Coworking Space': 'Professional & Other Places', 'Tech Startup': 'Professional & Other Places', 'Parking': 'Professional & Other Places', 'Post Office': 'Professional & Other Places', 'Prison': 'Professional & Other Places', 'Radio Station': 'Professional & Other Places', 'Recruiting Agency': 'Professional & Other Places', 'School': 'Professional & Other Places', 'Circus School': 'Professional & Other Places', 'Driving School': 'Professional & Other Places', 'Elementary School': 'Professional & Other Places', 'Flight School': 'Professional & Other Places', 'High School': 'Professional & Other Places', 'Language School': 'Professional & Other Places', 'Middle School': 'Professional & Other Places', 'Music School': 'Professional & Other Places', 'Nursery School': 'Professional & Other Places', 'Preschool': 'Professional & Other Places', 'Private School': 'Professional & Other Places', 'Religious School': 'Professional & Other Places', 'Swim School': 'Professional & Other Places', 'Social Club': 'Professional & Other Places', 'Spiritual Center': 'Professional & Other Places', 'Buddhist Temple': 'Professional & Other Places', 'Church': 'Professional & Other Places', 'Hindu Temple': 'Professional & Other Places', 'Monastery': 'Professional & Other Places', 'Mosque': 'Professional & Other Places', 'Prayer Room': 'Professional & Other Places', 'Shrine': 'Professional & Other Places', 'Synagogue': 'Professional & Other Places', 'Temple': 'Professional & Other Places', 'TV Station': 'Professional & Other Places', 'Voting Booth': 'Professional & Other Places', 'Warehouse': 'Professional & Other Places', 'Assisted Living': 'Residence', 'Home (private)': 'Residence', 'Housing Development': 'Residence', 'Residential Building (Apartment / Condo)': 'Residence', 'Trailer Park': 'Residence', 'ATM': 'Shop & Service', 'Adult Boutique': 'Shop & Service', 'Antique Shop': 'Shop & Service', 'Arts & Crafts Store': 'Shop & Service', 'Astrologer': 'Shop & Service', 'Auto Garage': 'Shop & Service', 'Automotive Shop': 'Shop & Service', 'Baby Store': 'Shop & Service', 'Bank': 'Shop & Service', 'Betting Shop': 'Shop & Service', 'Big Box Store': 'Shop & Service', 'Bike Shop': 'Shop & Service', 'Board Shop': 'Shop & Service', 'Bookstore': 'Shop & Service', 'Bridal Shop': 'Shop & Service', 'Business Service': 'Shop & Service', 'Camera Store': 'Shop & Service', 'Candy Store': 'Shop & Service', 'Car Dealership': 'Shop & Service', 'Car Wash': 'Shop & Service', 'Carpet Store': 'Shop & Service', 'Check Cashing Service': 'Shop & Service', 'Chocolate Shop': 'Shop & Service', 'Christmas Market': 'Shop & Service', 'Clothing Store': 'Shop & Service', 'Accessories Store': 'Shop & Service', 'Boutique': 'Shop & Service', 'Kids Store': 'Shop & Service', 'Lingerie Store': 'Shop & Service', \"Men's Store\": 'Shop & Service', 'Shoe Store': 'Shop & Service', \"Women's Store\": 'Shop & Service', 'Comic Shop': 'Shop & Service', 'Construction & Landscaping': 'Shop & Service', 'Convenience Store': 'Shop & Service', 'Cosmetics Shop': 'Shop & Service', 'Costume Shop': 'Shop & Service', 'Credit Union': 'Shop & Service', 'Daycare': 'Shop & Service', 'Department Store': 'Shop & Service', 'Design Studio': 'Shop & Service', 'Discount Store': 'Shop & Service', 'Dive Shop': 'Shop & Service', 'Drugstore / Pharmacy': 'Shop & Service', 'Dry Cleaner': 'Shop & Service', 'EV Charging Station': 'Shop & Service', 'Electronics Store': 'Shop & Service', 'Event Service': 'Shop & Service', 'Fabric Shop': 'Shop & Service', 'Financial or Legal Service': 'Shop & Service', 'Fireworks Store': 'Shop & Service', 'Fishing Store': 'Shop & Service', 'Flea Market': 'Shop & Service', 'Flower Shop': 'Shop & Service', 'Food & Drink Shop': 'Shop & Service', 'Beer Store': 'Shop & Service', 'Butcher': 'Shop & Service', 'Cheese Shop': 'Shop & Service', 'Farmers Market': 'Shop & Service', 'Fish Market': 'Shop & Service', 'Gourmet Shop': 'Shop & Service', 'Grocery Store': 'Shop & Service', 'Health Food Store': 'Shop & Service', 'Liquor Store': 'Shop & Service', 'Organic Grocery': 'Shop & Service', 'Street Food Gathering': 'Shop & Service', 'Supermarket': 'Shop & Service', 'Wine Shop': 'Shop & Service', 'Frame Store': 'Shop & Service', 'Fruit & Vegetable Store': 'Shop & Service', 'Furniture / Home Store': 'Shop & Service', 'Lighting Store': 'Shop & Service', 'Gaming Cafe': 'Shop & Service', 'Garden Center': 'Shop & Service', 'Gas Station / Garage': 'Shop & Service', 'Gift Shop': 'Shop & Service', 'Gun Shop': 'Shop & Service', 'Gym / Fitness Center': 'Shop & Service', 'Boxing Gym': 'Shop & Service', 'Climbing Gym': 'Shop & Service', 'Cycle Studio': 'Shop & Service', 'Gym Pool': 'Shop & Service', 'Gymnastics Gym': 'Shop & Service', 'Gym': 'Shop & Service', 'Martial Arts Dojo': 'Shop & Service', 'Track': 'Shop & Service', 'Yoga Studio': 'Shop & Service', 'Hardware Store': 'Shop & Service', 'Health & Beauty Service': 'Shop & Service', 'Herbs & Spices Store': 'Shop & Service', 'Hobby Shop': 'Shop & Service', 'Home Service': 'Shop & Service', 'Hunting Supply': 'Shop & Service', 'IT Services': 'Shop & Service', 'Internet Cafe': 'Shop & Service', 'Jewelry Store': 'Shop & Service', 'Knitting Store': 'Shop & Service', 'Laundromat': 'Shop & Service', 'Laundry Service': 'Shop & Service', 'Lawyer': 'Shop & Service', 'Leather Goods Store': 'Shop & Service', 'Locksmith': 'Shop & Service', 'Lottery Retailer': 'Shop & Service', 'Luggage Store': 'Shop & Service', 'Mall': 'Shop & Service', 'Marijuana Dispensary': 'Shop & Service', 'Market': 'Shop & Service', 'Massage Studio': 'Shop & Service', 'Mattress Store': 'Shop & Service', 'Miscellaneous Shop': 'Shop & Service', 'Mobile Phone Shop': 'Shop & Service', 'Motorcycle Shop': 'Shop & Service', 'Music Store': 'Shop & Service', 'Nail Salon': 'Shop & Service', 'Newsstand': 'Shop & Service', 'Optical Shop': 'Shop & Service', 'Other Repair Shop': 'Shop & Service', 'Outdoor Supply Store': 'Shop & Service', 'Outlet Store': 'Shop & Service', 'Paper / Office Supplies Store': 'Shop & Service', 'Pawn Shop': 'Shop & Service', 'Perfume Shop': 'Shop & Service', 'Pet Service': 'Shop & Service', 'Pet Store': 'Shop & Service', 'Photography Lab': 'Shop & Service', 'Photography Studio': 'Shop & Service', 'Piercing Parlor': 'Shop & Service', 'Pop-Up Shop': 'Shop & Service', 'Print Shop': 'Shop & Service', 'Real Estate Office': 'Shop & Service', 'Record Shop': 'Shop & Service', 'Recording Studio': 'Shop & Service', 'Recycling Facility': 'Shop & Service', 'Salon / Barbershop': 'Shop & Service', 'Shipping Store': 'Shop & Service', 'Shoe Repair': 'Shop & Service', 'Smoke Shop': 'Shop & Service', 'Smoothie Shop': 'Shop & Service', 'Souvenir Shop': 'Shop & Service', 'Spa / Massage': 'Shop & Service', 'Sporting Goods Shop': 'Shop & Service', 'Stationery Store': 'Shop & Service', 'Storage Facility': 'Shop & Service', 'Tailor Shop': 'Shop & Service', 'Tanning Salon': 'Shop & Service', 'Tattoo Parlor': 'Shop & Service', 'Thrift / Vintage Store': 'Shop & Service', 'Toy / Game Store': 'Shop & Service', 'Travel Agency': 'Shop & Service', 'Used Bookstore': 'Shop & Service', 'Video Game Store': 'Shop & Service', 'Video Store': 'Shop & Service', 'Warehouse Store': 'Shop & Service', 'Watch Repair Shop': 'Shop & Service', 'Airport': 'Travel & Transport', 'Airport Food Court': 'Travel & Transport', 'Airport Gate': 'Travel & Transport', 'Airport Lounge': 'Travel & Transport', 'Airport Terminal': 'Travel & Transport', 'Airport Tram': 'Travel & Transport', 'Plane': 'Travel & Transport', 'Bike Rental / Bike Share': 'Travel & Transport', 'Boat': 'Travel & Transport', 'Ferry': 'Travel & Transport', 'Border Crossing': 'Travel & Transport', 'Bus Station': 'Travel & Transport', 'Bus Line': 'Travel & Transport', 'Bus Stop': 'Travel & Transport', 'Cable Car': 'Travel & Transport', 'Cruise': 'Travel & Transport', 'General Travel': 'Travel & Transport', 'Hotel': 'Travel & Transport', 'Bed & Breakfast': 'Travel & Transport', 'Boarding House': 'Travel & Transport', 'Hostel': 'Travel & Transport', 'Hotel Pool': 'Travel & Transport', 'Motel': 'Travel & Transport', 'Resort': 'Travel & Transport', 'Roof Deck': 'Travel & Transport', 'Intersection': 'Travel & Transport', 'Light Rail': 'Travel & Transport', 'Metro Station': 'Travel & Transport', 'Moving Target': 'Travel & Transport', 'Pier': 'Travel & Transport', 'RV Park': 'Travel & Transport', 'Rental Car Location': 'Travel & Transport', 'Rest Area': 'Travel & Transport', 'Road': 'Travel & Transport', 'Street': 'Travel & Transport', 'Taxi Stand': 'Travel & Transport', 'Taxi': 'Travel & Transport', 'Toll Booth': 'Travel & Transport', 'Toll Plaza': 'Travel & Transport', 'Tourist Information Center': 'Travel & Transport', 'Train Station': 'Travel & Transport', 'Platform': 'Travel & Transport', 'Train': 'Travel & Transport', 'Tram Station': 'Travel & Transport', 'Transportation Service': 'Travel & Transport', 'Travel Lounge': 'Travel & Transport', 'Tunnel': 'Travel & Transport', 'Subway': 'Travel & Transport'}\n",
      "755\n"
     ]
    }
   ],
   "source": [
    "\n",
    "with open(file_path, \"r\", encoding=\"utf-8\") as file:\n",
    "    file_lines = file.readlines()\n",
    "mapping = map_to_top_level_category(file_lines)\n",
    "print(mapping)\n",
    "print(len(mapping))"
   ]
  },
  {
   "cell_type": "code",
   "execution_count": 3,
   "metadata": {},
   "outputs": [
    {
     "data": {
      "text/html": [
       "<div>\n",
       "<style scoped>\n",
       "    .dataframe tbody tr th:only-of-type {\n",
       "        vertical-align: middle;\n",
       "    }\n",
       "\n",
       "    .dataframe tbody tr th {\n",
       "        vertical-align: top;\n",
       "    }\n",
       "\n",
       "    .dataframe thead th {\n",
       "        text-align: right;\n",
       "    }\n",
       "</style>\n",
       "<table border=\"1\" class=\"dataframe\">\n",
       "  <thead>\n",
       "    <tr style=\"text-align: right;\">\n",
       "      <th></th>\n",
       "      <th>Unnamed: 0</th>\n",
       "      <th>geo_id</th>\n",
       "      <th>type</th>\n",
       "      <th>Long</th>\n",
       "      <th>Lat</th>\n",
       "      <th>venue_category_id</th>\n",
       "      <th>venue_category_name</th>\n",
       "      <th>region_id</th>\n",
       "      <th>cate_id</th>\n",
       "    </tr>\n",
       "  </thead>\n",
       "  <tbody>\n",
       "    <tr>\n",
       "      <th>0</th>\n",
       "      <td>0</td>\n",
       "      <td>0</td>\n",
       "      <td>Point</td>\n",
       "      <td>-74.003139</td>\n",
       "      <td>40.733596</td>\n",
       "      <td>4bf58dd8d48988d1e7931735</td>\n",
       "      <td>Music Venue</td>\n",
       "      <td>689</td>\n",
       "      <td>145</td>\n",
       "    </tr>\n",
       "    <tr>\n",
       "      <th>1</th>\n",
       "      <td>1</td>\n",
       "      <td>1</td>\n",
       "      <td>Point</td>\n",
       "      <td>-73.967644</td>\n",
       "      <td>40.756368</td>\n",
       "      <td>4bf58dd8d48988d11d941735</td>\n",
       "      <td>Bar</td>\n",
       "      <td>838</td>\n",
       "      <td>21</td>\n",
       "    </tr>\n",
       "    <tr>\n",
       "      <th>2</th>\n",
       "      <td>2</td>\n",
       "      <td>2</td>\n",
       "      <td>Point</td>\n",
       "      <td>-73.981393</td>\n",
       "      <td>40.724827</td>\n",
       "      <td>4bf58dd8d48988d118941735</td>\n",
       "      <td>Bar</td>\n",
       "      <td>596</td>\n",
       "      <td>21</td>\n",
       "    </tr>\n",
       "    <tr>\n",
       "      <th>3</th>\n",
       "      <td>3</td>\n",
       "      <td>3</td>\n",
       "      <td>Point</td>\n",
       "      <td>-74.006020</td>\n",
       "      <td>40.739685</td>\n",
       "      <td>4bf58dd8d48988d10c941735</td>\n",
       "      <td>French Restaurant</td>\n",
       "      <td>690</td>\n",
       "      <td>89</td>\n",
       "    </tr>\n",
       "    <tr>\n",
       "      <th>4</th>\n",
       "      <td>4</td>\n",
       "      <td>4</td>\n",
       "      <td>Point</td>\n",
       "      <td>-73.990817</td>\n",
       "      <td>40.718363</td>\n",
       "      <td>4bf58dd8d48988d116941735</td>\n",
       "      <td>Bar</td>\n",
       "      <td>559</td>\n",
       "      <td>21</td>\n",
       "    </tr>\n",
       "  </tbody>\n",
       "</table>\n",
       "</div>"
      ],
      "text/plain": [
       "   Unnamed: 0  geo_id   type       Long        Lat         venue_category_id  \\\n",
       "0           0       0  Point -74.003139  40.733596  4bf58dd8d48988d1e7931735   \n",
       "1           1       1  Point -73.967644  40.756368  4bf58dd8d48988d11d941735   \n",
       "2           2       2  Point -73.981393  40.724827  4bf58dd8d48988d118941735   \n",
       "3           3       3  Point -74.006020  40.739685  4bf58dd8d48988d10c941735   \n",
       "4           4       4  Point -73.990817  40.718363  4bf58dd8d48988d116941735   \n",
       "\n",
       "  venue_category_name  region_id  cate_id  \n",
       "0         Music Venue        689      145  \n",
       "1                 Bar        838       21  \n",
       "2                 Bar        596       21  \n",
       "3   French Restaurant        690       89  \n",
       "4                 Bar        559       21  "
      ]
     },
     "execution_count": 3,
     "metadata": {},
     "output_type": "execute_result"
    }
   ],
   "source": [
    "# data_initial = pd.read_csv(\n",
    "#     data_path,\n",
    "#     delimiter=\"\\t\", header=None, encoding='latin-1', names=['UserID','VenueID','VenueCateID','VenueCateName','Latitude','Longitude','TimezoneOffset','UTCtime'])\n",
    "data_initial = pd.read_csv(data_path)\n",
    "data_initial.head()"
   ]
  },
  {
   "cell_type": "code",
   "execution_count": 6,
   "metadata": {},
   "outputs": [],
   "source": [
    "data_cate = data_initial['venue_category_name'].to_numpy()\n",
    "map_list = list(map(mapping.get, data_cate))"
   ]
  },
  {
   "cell_type": "code",
   "execution_count": 7,
   "metadata": {},
   "outputs": [
    {
     "data": {
      "text/plain": [
       "Unnamed: 0               0\n",
       "geo_id                   0\n",
       "type                     0\n",
       "Long                     0\n",
       "Lat                      0\n",
       "venue_category_id        0\n",
       "venue_category_name      0\n",
       "region_id                0\n",
       "cate_id                  0\n",
       "topCate                103\n",
       "dtype: int64"
      ]
     },
     "execution_count": 7,
     "metadata": {},
     "output_type": "execute_result"
    }
   ],
   "source": [
    "data_after_map = data_initial.copy()\n",
    "data_after_map['topCate'] = map_list\n",
    "data_after_map.isna().sum()"
   ]
  },
  {
   "cell_type": "code",
   "execution_count": 8,
   "metadata": {},
   "outputs": [
    {
     "data": {
      "text/plain": [
       "Unnamed: 0             0\n",
       "geo_id                 0\n",
       "type                   0\n",
       "Long                   0\n",
       "Lat                    0\n",
       "venue_category_id      0\n",
       "venue_category_name    0\n",
       "region_id              0\n",
       "cate_id                0\n",
       "topCate                0\n",
       "dtype: int64"
      ]
     },
     "execution_count": 8,
     "metadata": {},
     "output_type": "execute_result"
    }
   ],
   "source": [
    "final_df = data_after_map.dropna()\n",
    "final_df.isna().sum()"
   ]
  },
  {
   "cell_type": "code",
   "execution_count": 9,
   "metadata": {},
   "outputs": [
    {
     "data": {
      "text/html": [
       "<div>\n",
       "<style scoped>\n",
       "    .dataframe tbody tr th:only-of-type {\n",
       "        vertical-align: middle;\n",
       "    }\n",
       "\n",
       "    .dataframe tbody tr th {\n",
       "        vertical-align: top;\n",
       "    }\n",
       "\n",
       "    .dataframe thead th {\n",
       "        text-align: right;\n",
       "    }\n",
       "</style>\n",
       "<table border=\"1\" class=\"dataframe\">\n",
       "  <thead>\n",
       "    <tr style=\"text-align: right;\">\n",
       "      <th></th>\n",
       "      <th>Unnamed: 0</th>\n",
       "      <th>geo_id</th>\n",
       "      <th>type</th>\n",
       "      <th>Long</th>\n",
       "      <th>Lat</th>\n",
       "      <th>venue_category_id</th>\n",
       "      <th>venue_category_name</th>\n",
       "      <th>region_id</th>\n",
       "      <th>cate_id</th>\n",
       "      <th>topCate</th>\n",
       "    </tr>\n",
       "  </thead>\n",
       "  <tbody>\n",
       "    <tr>\n",
       "      <th>0</th>\n",
       "      <td>0</td>\n",
       "      <td>0</td>\n",
       "      <td>Point</td>\n",
       "      <td>-74.003139</td>\n",
       "      <td>40.733596</td>\n",
       "      <td>4bf58dd8d48988d1e7931735</td>\n",
       "      <td>Music Venue</td>\n",
       "      <td>689</td>\n",
       "      <td>145</td>\n",
       "      <td>Arts &amp; Entertainment</td>\n",
       "    </tr>\n",
       "    <tr>\n",
       "      <th>1</th>\n",
       "      <td>1</td>\n",
       "      <td>1</td>\n",
       "      <td>Point</td>\n",
       "      <td>-73.967644</td>\n",
       "      <td>40.756368</td>\n",
       "      <td>4bf58dd8d48988d11d941735</td>\n",
       "      <td>Bar</td>\n",
       "      <td>838</td>\n",
       "      <td>21</td>\n",
       "      <td>Nightlife Spot</td>\n",
       "    </tr>\n",
       "    <tr>\n",
       "      <th>2</th>\n",
       "      <td>2</td>\n",
       "      <td>2</td>\n",
       "      <td>Point</td>\n",
       "      <td>-73.981393</td>\n",
       "      <td>40.724827</td>\n",
       "      <td>4bf58dd8d48988d118941735</td>\n",
       "      <td>Bar</td>\n",
       "      <td>596</td>\n",
       "      <td>21</td>\n",
       "      <td>Nightlife Spot</td>\n",
       "    </tr>\n",
       "    <tr>\n",
       "      <th>3</th>\n",
       "      <td>3</td>\n",
       "      <td>3</td>\n",
       "      <td>Point</td>\n",
       "      <td>-74.006020</td>\n",
       "      <td>40.739685</td>\n",
       "      <td>4bf58dd8d48988d10c941735</td>\n",
       "      <td>French Restaurant</td>\n",
       "      <td>690</td>\n",
       "      <td>89</td>\n",
       "      <td>Food</td>\n",
       "    </tr>\n",
       "    <tr>\n",
       "      <th>4</th>\n",
       "      <td>4</td>\n",
       "      <td>4</td>\n",
       "      <td>Point</td>\n",
       "      <td>-73.990817</td>\n",
       "      <td>40.718363</td>\n",
       "      <td>4bf58dd8d48988d116941735</td>\n",
       "      <td>Bar</td>\n",
       "      <td>559</td>\n",
       "      <td>21</td>\n",
       "      <td>Nightlife Spot</td>\n",
       "    </tr>\n",
       "  </tbody>\n",
       "</table>\n",
       "</div>"
      ],
      "text/plain": [
       "   Unnamed: 0  geo_id   type       Long        Lat         venue_category_id  \\\n",
       "0           0       0  Point -74.003139  40.733596  4bf58dd8d48988d1e7931735   \n",
       "1           1       1  Point -73.967644  40.756368  4bf58dd8d48988d11d941735   \n",
       "2           2       2  Point -73.981393  40.724827  4bf58dd8d48988d118941735   \n",
       "3           3       3  Point -74.006020  40.739685  4bf58dd8d48988d10c941735   \n",
       "4           4       4  Point -73.990817  40.718363  4bf58dd8d48988d116941735   \n",
       "\n",
       "  venue_category_name  region_id  cate_id               topCate  \n",
       "0         Music Venue        689      145  Arts & Entertainment  \n",
       "1                 Bar        838       21        Nightlife Spot  \n",
       "2                 Bar        596       21        Nightlife Spot  \n",
       "3   French Restaurant        690       89                  Food  \n",
       "4                 Bar        559       21        Nightlife Spot  "
      ]
     },
     "execution_count": 9,
     "metadata": {},
     "output_type": "execute_result"
    }
   ],
   "source": [
    "final_df.head()"
   ]
  },
  {
   "cell_type": "code",
   "execution_count": 10,
   "metadata": {},
   "outputs": [
    {
     "data": {
      "text/plain": [
       "Unnamed: 0             9886\n",
       "geo_id                 9886\n",
       "type                      1\n",
       "Long                   8850\n",
       "Lat                    9518\n",
       "venue_category_id       333\n",
       "venue_category_name     219\n",
       "region_id              1671\n",
       "cate_id                 219\n",
       "topCate                   9\n",
       "dtype: int64"
      ]
     },
     "execution_count": 10,
     "metadata": {},
     "output_type": "execute_result"
    }
   ],
   "source": [
    "final_df.nunique()"
   ]
  },
  {
   "cell_type": "code",
   "execution_count": 11,
   "metadata": {},
   "outputs": [
    {
     "data": {
      "text/plain": [
       "{'Arts & Entertainment',\n",
       " 'College & University',\n",
       " 'Food',\n",
       " 'Nightlife Spot',\n",
       " 'Outdoors & Recreation',\n",
       " 'Professional & Other Places',\n",
       " 'Residence',\n",
       " 'Shop & Service',\n",
       " 'Travel & Transport'}"
      ]
     },
     "execution_count": 11,
     "metadata": {},
     "output_type": "execute_result"
    }
   ],
   "source": [
    "set(final_df['topCate'])"
   ]
  },
  {
   "cell_type": "code",
   "execution_count": 13,
   "metadata": {},
   "outputs": [],
   "source": [
    "final_df.to_csv('foursquare_mapped_NYC.geo', index=False)"
   ]
  }
 ],
 "metadata": {
  "kernelspec": {
   "display_name": "pytorch",
   "language": "python",
   "name": "python3"
  },
  "language_info": {
   "codemirror_mode": {
    "name": "ipython",
    "version": 3
   },
   "file_extension": ".py",
   "mimetype": "text/x-python",
   "name": "python",
   "nbconvert_exporter": "python",
   "pygments_lexer": "ipython3",
   "version": "3.7.16"
  },
  "orig_nbformat": 4
 },
 "nbformat": 4,
 "nbformat_minor": 2
}
